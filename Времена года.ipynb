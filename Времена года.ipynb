{
 "cells": [
  {
   "cell_type": "markdown",
   "metadata": {},
   "source": [
    "Данная программа запрашивает у пользователя дату в формате дд.мм и сообщает ему время года"
   ]
  },
  {
   "cell_type": "code",
   "execution_count": 10,
   "metadata": {},
   "outputs": [
    {
     "name": "stdout",
     "output_type": "stream",
     "text": [
      "Добрый день! Я подскажу вам время года.\n"
     ]
    }
   ],
   "source": [
    "print('Добрый день! Я подскажу вам время года.')\n",
    "season_list = ['Весна','Лето','Осень','Зима']"
   ]
  },
  {
   "cell_type": "markdown",
   "metadata": {},
   "source": [
    "Упрощенный вариант: в начале мы отдельно запрашиваем дату, отдельно месяц."
   ]
  },
  {
   "cell_type": "code",
   "execution_count": 11,
   "metadata": {},
   "outputs": [
    {
     "name": "stdout",
     "output_type": "stream",
     "text": [
      "Укажите, какое сегодня число\n",
      "98\n",
      "Укажите номер месяца\n",
      "45\n",
      "Выполняем проверку корректности данных\n",
      "дата некорректная\n",
      "номер месяца некорректный\n"
     ]
    }
   ],
   "source": [
    "print('Укажите, какое сегодня число')\n",
    "data = int(input())\n",
    "print('Укажите номер месяца')\n",
    "month = int(input())\n",
    "\n",
    "print('Выполняем проверку корректности данных')\n",
    "\n",
    "if 1<=data<=31:\n",
    "    data_valid = True\n",
    "    print('дата корректная')\n",
    "else:\n",
    "    data_valid = False\n",
    "    print('дата некорректная')\n",
    "\n",
    "if 1<=month<=12:\n",
    "    month_valid = True\n",
    "    print('номер месяца корректный')\n",
    "else:\n",
    "    month_valid = False\n",
    "    print('номер месяца некорректный') \n",
    "    \n",
    "#определим время года\n",
    "\n",
    "if data_valid and month_valid:\n",
    "    \n",
    "    if    3<=month<=5:  season = season_list[0]\n",
    "    elif  6<=month<=8:  season = season_list[1]\n",
    "    elif  9<=month<=11: season = season_list[2]\n",
    "    else:               season = season_list[3]\n",
    "    \n",
    "    print(season)\n",
    "        \n",
    "    \n",
    "\n",
    "\n",
    "    \n",
    "    "
   ]
  },
  {
   "cell_type": "code",
   "execution_count": null,
   "metadata": {},
   "outputs": [],
   "source": []
  },
  {
   "cell_type": "code",
   "execution_count": null,
   "metadata": {},
   "outputs": [],
   "source": []
  }
 ],
 "metadata": {
  "kernelspec": {
   "display_name": "Python 3",
   "language": "python",
   "name": "python3"
  },
  "language_info": {
   "codemirror_mode": {
    "name": "ipython",
    "version": 3
   },
   "file_extension": ".py",
   "mimetype": "text/x-python",
   "name": "python",
   "nbconvert_exporter": "python",
   "pygments_lexer": "ipython3",
   "version": "3.8.3"
  }
 },
 "nbformat": 4,
 "nbformat_minor": 4
}
